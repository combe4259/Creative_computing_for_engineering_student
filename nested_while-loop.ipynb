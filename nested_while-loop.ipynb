{
 "cells": [
  {
   "cell_type": "code",
   "execution_count": null,
   "id": "97278245",
   "metadata": {},
   "outputs": [],
   "source": [
    "import random\n",
    "num=random.randint(1,100)\n",
    "count=0\n",
    "i=2\n",
    "while i<=num:\n",
    "    state=\"false\"\n",
    "    sell=1\n",
    "    while sell<i:\n",
    "        if i%sell==0:\n",
    "            sell=sell+1\n",
    "        else:\n",
    "            state=\"true\"\n",
    "    if state==\"true\":\n",
    "        count=count+1\n",
    "    i=i+1\n",
    "print(\"%d\"%count)"
   ]
  },
  {
   "cell_type": "code",
   "execution_count": null,
   "id": "e5f88c7d",
   "metadata": {},
   "outputs": [],
   "source": [
    "num=int(input('정수 입력:'))\n",
    "i=1\n",
    "sum=0\n",
    "while i<=num:\n",
    "    print(\"(\",end=\" \")\n",
    "    j=1\n",
    "    while j<=i:\n",
    "        print(\"%d\",%j)\n",
    "        j=j+1\n",
    "        if j!=i:\n",
    "            print(\"+\",end=\" \")\n",
    "        sum=sum+j\n",
    "    print(\")\",end=\" \")\n",
    "print(\"=%d\"%sum)"
   ]
  }
 ],
 "metadata": {
  "kernelspec": {
   "display_name": "Python 3",
   "language": "python",
   "name": "python3"
  },
  "language_info": {
   "codemirror_mode": {
    "name": "ipython",
    "version": 3
   },
   "file_extension": ".py",
   "mimetype": "text/x-python",
   "name": "python",
   "nbconvert_exporter": "python",
   "pygments_lexer": "ipython3",
   "version": "3.8.8"
  }
 },
 "nbformat": 4,
 "nbformat_minor": 5
}
