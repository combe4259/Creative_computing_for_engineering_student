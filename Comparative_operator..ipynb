{
 "cells": [
  {
   "cell_type": "code",
   "execution_count": 7,
   "id": "bf8807b5",
   "metadata": {
    "scrolled": true
   },
   "outputs": [
    {
     "name": "stdout",
     "output_type": "stream",
     "text": [
      "정수입력50\n",
      "정수입력64\n",
      "정수입력14\n",
      "정수입력60\n",
      "정수입력10\n",
      "정수입력입력끝\n",
      "합계는 198 평균은 39.6\n"
     ]
    }
   ],
   "source": [
    "count=0\n",
    "sum=0\n",
    "num=\" \"\n",
    "avg=0\n",
    "while num!=\"입력끝\":\n",
    "    num=input('정수입력')\n",
    "    if num!=\"입력끝\":\n",
    "        sum=sum+int(num)\n",
    "        count=count+1\n",
    "    else:\n",
    "        if count!=0:\n",
    "            avg=sum/count\n",
    "print(\"합계는 %d 평균은 %.1f\"%(sum,avg))"
   ]
  },
  {
   "cell_type": "code",
   "execution_count": 3,
   "id": "18d16500",
   "metadata": {},
   "outputs": [
    {
     "name": "stdout",
     "output_type": "stream",
     "text": [
      "요금을 입력하세요:\n",
      "6430\n",
      "50000 원: 0개\n",
      "10000 원: 0개\n",
      "5000 원: 1개\n",
      "1000 원: 1개\n",
      "500 원: 0개\n",
      "100 원: 4개\n",
      "50 원: 0개\n",
      "10 원: 3개\n"
     ]
    }
   ],
   "source": [
    "money = int(input('요금을 입력하세요:\\n'))\n",
    "a = 50000\n",
    "odd = 0\n",
    "while a>10:\n",
    "    b = 0\n",
    "    while b < 2 :           \n",
    "        count = money // a \n",
    "        print('%d 원: %d개' %(a,count))\n",
    "        money = money % a\n",
    "        if b==0:\n",
    "            a = a / 5\n",
    "        else:\n",
    "            a = a / 2\n",
    "        b = b+1"
   ]
  }
 ],
 "metadata": {
  "kernelspec": {
   "display_name": "Python 3",
   "language": "python",
   "name": "python3"
  },
  "language_info": {
   "codemirror_mode": {
    "name": "ipython",
    "version": 3
   },
   "file_extension": ".py",
   "mimetype": "text/x-python",
   "name": "python",
   "nbconvert_exporter": "python",
   "pygments_lexer": "ipython3",
   "version": "3.8.8"
  }
 },
 "nbformat": 4,
 "nbformat_minor": 5
}
