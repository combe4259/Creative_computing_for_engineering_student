{
 "cells": [
  {
   "cell_type": "code",
   "execution_count": 6,
   "id": "cdc98eb9",
   "metadata": {},
   "outputs": [
    {
     "name": "stdout",
     "output_type": "stream",
     "text": [
      "년도를 입력하시오2024\n",
      "윤년입니다\n"
     ]
    }
   ],
   "source": [
    "year=int(input('년도를 입력하시오'))\n",
    "if (year%4==0 and year%100!=0) or year%400==0:\n",
    "    print('윤년입니다')\n",
    "else:\n",
    "    print('평년입니다')"
   ]
  },
  {
   "cell_type": "code",
   "execution_count": null,
   "id": "16983e79",
   "metadata": {},
   "outputs": [],
   "source": [
    "type=int(input('응시 종류 입력하시오:'))\n",
    "point=int(input('점수를 입력하시오:'))\n",
    "if type==1:\n",
    "    if point>=70:\n",
    "        print('당신은 1종 면허에 합격했습니다')\n",
    "    else:\n",
    "        print('당신은 1종 면허에 불합격했습니다')\n",
    "else:\n",
    "    if point>=60:\n",
    "        print('당신은 2종 면허에 합격했습니다')\n",
    "    else:\n",
    "        print('당신은 2종 면허에 불합격했습니다')\n",
    "    "
   ]
  }
 ],
 "metadata": {
  "kernelspec": {
   "display_name": "Python 3",
   "language": "python",
   "name": "python3"
  },
  "language_info": {
   "codemirror_mode": {
    "name": "ipython",
    "version": 3
   },
   "file_extension": ".py",
   "mimetype": "text/x-python",
   "name": "python",
   "nbconvert_exporter": "python",
   "pygments_lexer": "ipython3",
   "version": "3.8.8"
  }
 },
 "nbformat": 4,
 "nbformat_minor": 5
}
