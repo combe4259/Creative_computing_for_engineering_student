{
 "cells": [
  {
   "cell_type": "markdown",
   "id": "2c0390c9",
   "metadata": {},
   "source": [
    "1. 점수를 입력 받아 10점마다 '*'를 출력하는 프로그램을 작성하세요. 단, 점수를 10으로 나누었을 때의 값이 실수인 경우에는 소수점 첫째자리에서 반올림한다."
   ]
  },
  {
   "cell_type": "code",
   "execution_count": 16,
   "id": "65829152",
   "metadata": {},
   "outputs": [
    {
     "name": "stdout",
     "output_type": "stream",
     "text": [
      "점수를 입력하세요86\n",
      "---막대그래프---\n",
      "86 *********\n"
     ]
    }
   ],
   "source": [
    "point=int(input('점수를 입력하세요'))\n",
    "print('---막대그래프---')\n",
    "count=int(point/10+0.5)\n",
    "print(point,'*'*count)"
   ]
  },
  {
   "cell_type": "markdown",
   "id": "5d3723eb",
   "metadata": {},
   "source": [
    "2.4자리 정수를 입력 받아 각 자리수를 출력하는 프로그램을 작성하세요."
   ]
  },
  {
   "cell_type": "code",
   "execution_count": 2,
   "id": "b691d1f6",
   "metadata": {},
   "outputs": [
    {
     "name": "stdout",
     "output_type": "stream",
     "text": [
      "정수를 입력하세요4510\n",
      "천의 자리수: 4\n",
      "백의 자리수: 5\n",
      "십의 자리수: 1\n",
      "일의 자리수: 0\n"
     ]
    }
   ],
   "source": [
    "inum=int(input('정수를 입력하세요'))\n",
    "print('천의 자리수:',inum//1000)\n",
    "inum=inum%1000\n",
    "print('백의 자리수:',inum//100)\n",
    "inum=inum%100\n",
    "print('십의 자리수:',inum//10)\n",
    "inum=inum%10\n",
    "print('일의 자리수:',inum)"
   ]
  },
  {
   "cell_type": "markdown",
   "id": "76e5ccb2",
   "metadata": {},
   "source": [
    "3. 주문자 이름과 상품명, 단가, 수량, 부가세율을 입력 받아 주문 금액을 계산하여 출력하는 프로그램을 작성하세요.\n",
    "\n",
    "\n",
    "|주문금액=단가*수량|\n",
    "|------------------|\n",
    "|부가세=주문금액*부가세율|\n",
    "|총주문금액=주문금액+부가세|\n",
    "\n"
   ]
  },
  {
   "cell_type": "code",
   "execution_count": 5,
   "id": "d55b400c",
   "metadata": {},
   "outputs": [
    {
     "name": "stdout",
     "output_type": "stream",
     "text": [
      "주문자 이름:김라온\n",
      "상품명:A$\n",
      "단가:20000\n",
      "수량:4\n",
      "부가세율:0.1\n",
      "-----주문 계산서-----\n",
      "주문자 이름: 김라온\n",
      "주문 금액: 80000원\n",
      "부가세:8000\n",
      "주문 총 금액:88000\n"
     ]
    }
   ],
   "source": [
    "name=input('주문자 이름:')\n",
    "ductname=input('상품명:')\n",
    "money=int(input('단가:'))\n",
    "count=int(input('수량:'))\n",
    "rate=float(input('부가세율:'))\n",
    "print('-----주문 계산서-----')\n",
    "주문금액=money*count\n",
    "부가세=주문금액*rate\n",
    "총주문금액=주문금액+부가세\n",
    "print('주문자 이름: %s\\n주문 금액: %d원\\n부가세:%d\\n주문 총 금액:%d'%(name,주문금액,부가세,총주문금액))\n",
    "      "
   ]
  }
 ],
 "metadata": {
  "kernelspec": {
   "display_name": "Python 3",
   "language": "python",
   "name": "python3"
  },
  "language_info": {
   "codemirror_mode": {
    "name": "ipython",
    "version": 3
   },
   "file_extension": ".py",
   "mimetype": "text/x-python",
   "name": "python",
   "nbconvert_exporter": "python",
   "pygments_lexer": "ipython3",
   "version": "3.8.8"
  }
 },
 "nbformat": 4,
 "nbformat_minor": 5
}
