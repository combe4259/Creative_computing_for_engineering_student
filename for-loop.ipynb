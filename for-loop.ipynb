{
 "cells": [
  {
   "cell_type": "code",
   "execution_count": 4,
   "id": "b1521d62",
   "metadata": {},
   "outputs": [
    {
     "name": "stdout",
     "output_type": "stream",
     "text": [
      "Anaconda Solutions Are Serious Technology For Real Data Science And Ml Applications. Anaconda Is Versatile – You Will Be Ready To Solve Problems You Do Not Even Know You Have Yet. \n"
     ]
    }
   ],
   "source": [
    "text2=list()\n",
    "text2=\"Anaconda solutions are serious technology for real data science and ML applications. Anaconda is versatile – you will be ready to solve problems you do not even know you have yet.\".split()\n",
    "text1=\"\"\n",
    "text3=\"\"\n",
    "for idx in range(0,len(text2)):\n",
    "    text1=text2[idx]\n",
    "    text2[idx]=text1.capitalize()\n",
    "    text3=text3+text2[idx]+\" \"\n",
    "print(text3)"
   ]
  },
  {
   "cell_type": "code",
   "execution_count": 27,
   "id": "267ade7a",
   "metadata": {},
   "outputs": [
    {
     "name": "stdout",
     "output_type": "stream",
     "text": [
      "14\n"
     ]
    }
   ],
   "source": [
    "text1=\"Anaconda solutions are serious technology for real data science and ML applications. Anaconda is versatile – you will be ready to solve problems you do not even know you have yet.\"\n",
    "count=0\n",
    "for n in range(0,len(text1)):\n",
    "    if text1[n]=='a':\n",
    "        count=count+1\n",
    "print(count)"
   ]
  },
  {
   "cell_type": "code",
   "execution_count": 19,
   "id": "63c80648",
   "metadata": {},
   "outputs": [
    {
     "name": "stdout",
     "output_type": "stream",
     "text": [
      "박은별학생의 총점은 170 입니다.\n",
      "한빛나학생의 총점은 150 입니다.\n",
      "김라영학생의 총점은 130 입니다.\n"
     ]
    }
   ],
   "source": [
    "studlist = ['박은별;90;80', '한빛나;80;70', '김라영;60;70']\n",
    "for n in range(0,3):\n",
    "    name,s1,s2=studlist[n].split(';')\n",
    "    point=int(s1)+int(s2)\n",
    "    print(name+\"학생의 총점은\",point,\"입니다.\")"
   ]
  },
  {
   "cell_type": "code",
   "execution_count": 3,
   "id": "6ca43c37",
   "metadata": {},
   "outputs": [
    {
     "name": "stdout",
     "output_type": "stream",
     "text": [
      "생성할 아이디를 입력하세요: program*201\n",
      "생성규칙에 맞지 않습니다.\n"
     ]
    }
   ],
   "source": [
    "id=input(\"생성할 아이디를 입력하세요: \")\n",
    "if 10<=len(id)<=16 and \"a\"<=id[0]<=\"z\" and id.isalnum() and not(id.isalpha()):\n",
    "    print(\"아이디가 생성되었습니다.\")\n",
    "else:\n",
    "    print(\"생성규칙에 맞지 않습니다.\")"
   ]
  },
  {
   "cell_type": "code",
   "execution_count": 7,
   "id": "f4d0488d",
   "metadata": {},
   "outputs": [
    {
     "name": "stdout",
     "output_type": "stream",
     "text": [
      "생성할 아이디를 입력하세요: pro그램202121\n",
      "아이디가 생성\n"
     ]
    }
   ],
   "source": [
    "id=input(\"생성할 아이디를 입력하세요: \")\n",
    "forbool=True\n",
    "innum=False\n",
    "if len(id) not in range(10,17) or ord(id[0]) not in range(97,123):\n",
    "    forbool=False\n",
    "else:\n",
    "    for i in range(len(id)):\n",
    "        if id[i].isdigit():\n",
    "            innum=True\n",
    "        if not id[i].isalnum():\n",
    "            forbool=False\n",
    "            break\n",
    "if forbool==True and innum==True:\n",
    "    print(\"아이디가 생성\")\n",
    "else:\n",
    "    print(\"생성 X\")"
   ]
  }
 ],
 "metadata": {
  "kernelspec": {
   "display_name": "Python 3",
   "language": "python",
   "name": "python3"
  },
  "language_info": {
   "codemirror_mode": {
    "name": "ipython",
    "version": 3
   },
   "file_extension": ".py",
   "mimetype": "text/x-python",
   "name": "python",
   "nbconvert_exporter": "python",
   "pygments_lexer": "ipython3",
   "version": "3.8.8"
  }
 },
 "nbformat": 4,
 "nbformat_minor": 5
}
