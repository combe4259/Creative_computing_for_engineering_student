{
 "cells": [
  {
   "cell_type": "markdown",
   "id": "f246c921",
   "metadata": {},
   "source": [
    "1. 임의의   정수   1개를   입력받아    양수, 0,  음수로   구별하고   출력하는   프로그램을   작성하세요."
   ]
  },
  {
   "cell_type": "code",
   "execution_count": 15,
   "id": "09f2c6df",
   "metadata": {},
   "outputs": [
    {
     "name": "stdout",
     "output_type": "stream",
     "text": [
      "정수 1개를 입력하시오:50\n",
      "양수입니다\n"
     ]
    }
   ],
   "source": [
    "num=int(input('정수 1개를 입력하시오:'))\n",
    "if num>0:\n",
    "    print('양수입니다')\n",
    "elif num<0:\n",
    "    print('음수입니다')\n",
    "else:\n",
    "    print('영입니다')"
   ]
  },
  {
   "attachments": {},
   "cell_type": "markdown",
   "id": "d0b5c968",
   "metadata": {},
   "source": [
    "2.  중간고사와 기말고사 점수를 입력받아 평균을 구하고,  메시지를 출력하는 프로그램과 순서도를 작성하세요.\n",
    "    <center>-평균이   90점   이상이면, Excellent!  를   출력한다.\n",
    "    <center>-평균이 90점 미만 80점 이상이면, Good!  을 출력한다.\n",
    "    <center>-평균이 80점 미만 70점 이상이면, Fair~  를 출력한다.\n",
    "    <center>-평균이 70점 미만이면, See you again!  을 출력한다.\n",
    "<img src='Untitled Diagram.JPG' style='width:500px;'>"
   ]
  },
  {
   "cell_type": "code",
   "execution_count": 18,
   "id": "5afdfd55",
   "metadata": {},
   "outputs": [
    {
     "name": "stdout",
     "output_type": "stream",
     "text": [
      "중간고사 점수를 입력해주세요:75\n",
      "기말고사 점수를 입력해주세요:85\n",
      "Good!\n",
      "평균점수는 80.0입니다\n"
     ]
    }
   ],
   "source": [
    "mid=int(input('중간고사 점수를 입력해주세요:'))\n",
    "final=int(input('기말고사 점수를 입력해주세요:'))\n",
    "ave=(mid+final)/2\n",
    "if ave>=90:\n",
    "    print('Excellent!\\n평균점수는 %.1f입니다'%ave)\n",
    "elif 80<=ave<90:\n",
    "    print('Good!\\n평균점수는 %.1f입니다'%ave)\n",
    "elif 70<=ave<80:\n",
    "    print('Fair~\\n평균점수는 %.1f입니다'%ave)\n",
    "elif ave<70:\n",
    "    print(\"See you again!\\n평균점수는 %.1f입니다\"%ave)"
   ]
  },
  {
   "cell_type": "markdown",
   "id": "7a2acf13",
   "metadata": {},
   "source": [
    "3. 체중과   신장을   입력받아, BMI를   계산하여   측정된   메시지를    출력하는   프로그램을   작성하세요. \n",
    "\n",
    "\n",
    "|BMI(신체질량지수) 계산법: 체중(kg)/신장<sup>2</sup>(m)|\n",
    "|------------------------------------------------------|\n",
    "\n",
    "\n",
    "\n",
    "\n",
    "BMI가   18.5미만이면   저체중, 18.5이상 ~ 23미만에   속하면   정상체중, 23이상 ~ 25미만이면    과체중, 25이상 ~ 30 미만이면   비만, 30이상이면   고도비만입니다."
   ]
  },
  {
   "cell_type": "code",
   "execution_count": 14,
   "id": "ede2776d",
   "metadata": {},
   "outputs": [
    {
     "name": "stdout",
     "output_type": "stream",
     "text": [
      "체중(kg)을 입력하세요,50\n",
      "신장(m)을 입력하세요1.6\n",
      "BMI점수는 19.5로 정상체중입니다\n"
     ]
    }
   ],
   "source": [
    "weight=int(input('체중(kg)을 입력하세요,'))\n",
    "height=float(input('신장(m)을 입력하세요'))\n",
    "BMI=weight/(height**2)\n",
    "if BMI>=30:\n",
    "    print(\"BMI점수는 %.1f로 고도비만입니다\"%BMI)\n",
    "elif 25<=BMI<30:\n",
    "    print(\"BMI점수는 %.1f로 비만입니다\"%BMI)\n",
    "elif 23<=BMI<25:\n",
    "    print(\"BMI점수는 %.1f로 과체중입니다\"%BMI)\n",
    "elif 18.5<=BMI<23:\n",
    "    print(\"BMI점수는 %.1f로 정상체중입니다\"%BMI)\n",
    "elif BMI<18.5:\n",
    "    print(\"BMI점수는 %.1f로 저체중입니다\"%BMI)"
   ]
  }
 ],
 "metadata": {
  "kernelspec": {
   "display_name": "Python 3",
   "language": "python",
   "name": "python3"
  },
  "language_info": {
   "codemirror_mode": {
    "name": "ipython",
    "version": 3
   },
   "file_extension": ".py",
   "mimetype": "text/x-python",
   "name": "python",
   "nbconvert_exporter": "python",
   "pygments_lexer": "ipython3",
   "version": "3.8.8"
  }
 },
 "nbformat": 4,
 "nbformat_minor": 5
}
