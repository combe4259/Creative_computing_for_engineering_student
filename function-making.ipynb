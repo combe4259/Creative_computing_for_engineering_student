{
 "cells": [
  {
   "cell_type": "code",
   "execution_count": 6,
   "id": "fecb6892",
   "metadata": {},
   "outputs": [
    {
     "name": "stdout",
     "output_type": "stream",
     "text": [
      "정수 입력:4\n",
      "4 은 소수가 아닙니다\n"
     ]
    }
   ],
   "source": [
    "def isPrime(N):\n",
    "    i=1\n",
    "    cnt=0\n",
    "    while i<=N:\n",
    "        if N%i==0:\n",
    "            cnt=cnt+1\n",
    "        i=i+1\n",
    "    if cnt==2:\n",
    "        return True\n",
    "    else:\n",
    "        return False\n",
    "\n",
    "n=int(input(\"정수 입력:\"))\n",
    "if isPrime(n)==True:\n",
    "    print(n,\"은 소수입니다\")\n",
    "else:\n",
    "    print(n,\"은 소수가 아닙니다\")"
   ]
  },
  {
   "cell_type": "code",
   "execution_count": 11,
   "id": "090d4f32",
   "metadata": {},
   "outputs": [
    {
     "name": "stdout",
     "output_type": "stream",
     "text": [
      "아이디를 입력해주세요:sunny98\n",
      "아이디가 생성되었습니다\n"
     ]
    }
   ],
   "source": [
    "def checkID(s):\n",
    "    if len(s)>=6 and (\"a\"<=s[0]<=\"z\" or \"A\"<=s[0]<=\"Z\") and not(s.isalpha()) and not(s.isdigit()):\n",
    "        return True\n",
    "    else:\n",
    "        return False\n",
    "S=input(\"아이디를 입력해주세요:\")\n",
    "if checkID(S)==True:\n",
    "    print(\"아이디가 생성되었습니다\")\n",
    "else:\n",
    "    print(\"잘못 생성되었습니다\")"
   ]
  },
  {
   "cell_type": "code",
   "execution_count": null,
   "id": "b6dcd690",
   "metadata": {},
   "outputs": [],
   "source": [
    "def add(a,b):\n",
    "    return a+b\n",
    "def subtract(a,b):\n",
    "    return a-b\n",
    "def multiply(a,b):\n",
    "    return a*b\n",
    "def divide(a,b):\n",
    "    return a/b\n",
    "a=float(input(\"첫 번째 수 입력:\"))\n",
    "b=float(input(\"두 번째 수 입력:\"))\n",
    "c=input(\"연산자 입력:\")\n",
    "if c==\"+\":\n",
    "    print(a,\"+\",b,\"=\",add(a,b))\n",
    "elif c==\"-\":\n",
    "    print(a,\"-\",b,\"=\",subtract(a,b))\n",
    "elif c==\"*\":\n",
    "    print(a,\"*\",b,\"=\",multiply(a,b))\n",
    "else:\n",
    "    print(a,\"/\",b,\"=\",divide(a,b))"
   ]
  },
  {
   "cell_type": "code",
   "execution_count": 5,
   "id": "b7be2ede",
   "metadata": {},
   "outputs": [
    {
     "name": "stdout",
     "output_type": "stream",
     "text": [
      "호수\n",
      "['태오']\n"
     ]
    }
   ],
   "source": [
    "def func(n):\n",
    "    n=\"호수\"\n",
    "    print(n)\n",
    "    return\n",
    "name=[\"태오\"]\n",
    "func(name)\n",
    "print(name)"
   ]
  }
 ],
 "metadata": {
  "kernelspec": {
   "display_name": "Python 3",
   "language": "python",
   "name": "python3"
  },
  "language_info": {
   "codemirror_mode": {
    "name": "ipython",
    "version": 3
   },
   "file_extension": ".py",
   "mimetype": "text/x-python",
   "name": "python",
   "nbconvert_exporter": "python",
   "pygments_lexer": "ipython3",
   "version": "3.8.8"
  }
 },
 "nbformat": 4,
 "nbformat_minor": 5
}
