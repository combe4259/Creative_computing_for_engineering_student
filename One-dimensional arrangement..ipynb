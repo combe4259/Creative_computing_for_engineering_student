{
 "cells": [
  {
   "cell_type": "code",
   "execution_count": 12,
   "id": "799f957f",
   "metadata": {},
   "outputs": [
    {
     "name": "stdout",
     "output_type": "stream",
     "text": [
      "선택된 숫자는 1,45,8,41,41,17이다.\n"
     ]
    }
   ],
   "source": [
    "import random\n",
    "lotto=list(range(1,46))\n",
    "mynumber=list(range(1,7))\n",
    "i=1\n",
    "while i<=6:\n",
    "    pos=random.randint(1,45)\n",
    "    mynumber[i-1]=lotto[pos-1]\n",
    "    i=i+1\n",
    "print(\"선택된 숫자는 \"+str(mynumber[0])+\",\"+str(mynumber[1])+\",\"+str(mynumber[2])+\",\"+str(mynumber[3])+\",\"+str(mynumber[4])+\",\"+str(mynumber[5])+\"이다.\")"
   ]
  },
  {
   "cell_type": "code",
   "execution_count": 9,
   "id": "aa10879a",
   "metadata": {},
   "outputs": [
    {
     "name": "stdout",
     "output_type": "stream",
     "text": [
      "찾고자 하는 이름을 이름을 입력하세요:감준형\n",
      "이름이 리스트에 없습니다\n"
     ]
    }
   ],
   "source": [
    "namest=[\"김준형\",\"님준형\",\"딤준형\",\"림준형\",\"밈준형\",\"빔준형\",\"심준형\",\"임준형\",\"짐준형\",\"침준형\"]\n",
    "i=1\n",
    "search=input(\"찾고자 하는 이름을 이름을 입력하세요:\")\n",
    "while i<=10:\n",
    "    temp=namest[i-1]\n",
    "    if temp==search:\n",
    "        print(temp+\"은 \"+str(i)+\"번째 위치에 있습니다\")\n",
    "        break\n",
    "    i=i+1\n",
    "if i>=11:\n",
    "    print(\"이름이 리스트에 없습니다\")"
   ]
  },
  {
   "cell_type": "code",
   "execution_count": null,
   "id": "e44437da",
   "metadata": {},
   "outputs": [],
   "source": []
  }
 ],
 "metadata": {
  "kernelspec": {
   "display_name": "Python 3",
   "language": "python",
   "name": "python3"
  },
  "language_info": {
   "codemirror_mode": {
    "name": "ipython",
    "version": 3
   },
   "file_extension": ".py",
   "mimetype": "text/x-python",
   "name": "python",
   "nbconvert_exporter": "python",
   "pygments_lexer": "ipython3",
   "version": "3.8.8"
  }
 },
 "nbformat": 4,
 "nbformat_minor": 5
}
