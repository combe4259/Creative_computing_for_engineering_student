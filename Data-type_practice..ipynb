{
 "cells": [
  {
   "cell_type": "code",
   "execution_count": 1,
   "id": "8b4c4813",
   "metadata": {},
   "outputs": [
    {
     "name": "stdout",
     "output_type": "stream",
     "text": [
      "5\n"
     ]
    }
   ],
   "source": [
    "intN=int(input())"
   ]
  },
  {
   "cell_type": "code",
   "execution_count": 6,
   "id": "58d3ef04",
   "metadata": {},
   "outputs": [
    {
     "name": "stdout",
     "output_type": "stream",
     "text": [
      "3\n",
      "yes\n"
     ]
    }
   ],
   "source": [
    "floatN=float(input())\n",
    "strS=input()"
   ]
  },
  {
   "cell_type": "code",
   "execution_count": 5,
   "id": "320409f8",
   "metadata": {},
   "outputs": [
    {
     "data": {
      "text/plain": [
       "8.0"
      ]
     },
     "execution_count": 5,
     "metadata": {},
     "output_type": "execute_result"
    }
   ],
   "source": [
    "sumN=intN+floatN\n",
    "sumN"
   ]
  },
  {
   "cell_type": "code",
   "execution_count": 9,
   "id": "089dbe36",
   "metadata": {},
   "outputs": [
    {
     "name": "stdout",
     "output_type": "stream",
     "text": [
      "yes8.0\n"
     ]
    }
   ],
   "source": [
    "print(strS+str(sumN))"
   ]
  },
  {
   "cell_type": "code",
   "execution_count": 14,
   "id": "516f92e3",
   "metadata": {},
   "outputs": [
    {
     "name": "stdout",
     "output_type": "stream",
     "text": [
      "3.00\n"
     ]
    }
   ],
   "source": [
    "print('%.2f'%floatN)"
   ]
  },
  {
   "cell_type": "code",
   "execution_count": 17,
   "id": "06ecbefa",
   "metadata": {},
   "outputs": [
    {
     "name": "stdout",
     "output_type": "stream",
     "text": [
      "이름을 입력하세요:한아름\n",
      "출생년도를 입력하세요:2000\n",
      "한아름의 올해 나이는 22살입니다.\n"
     ]
    }
   ],
   "source": [
    "name=input('이름을 입력하세요:')\n",
    "year=int(input('출생년도를 입력하세요:'))\n",
    "old=2021-year+1\n",
    "print('%s의 올해 나이는 %d살입니다.'%(name,old))"
   ]
  }
 ],
 "metadata": {
  "kernelspec": {
   "display_name": "Python 3",
   "language": "python",
   "name": "python3"
  },
  "language_info": {
   "codemirror_mode": {
    "name": "ipython",
    "version": 3
   },
   "file_extension": ".py",
   "mimetype": "text/x-python",
   "name": "python",
   "nbconvert_exporter": "python",
   "pygments_lexer": "ipython3",
   "version": "3.8.8"
  }
 },
 "nbformat": 4,
 "nbformat_minor": 5
}
