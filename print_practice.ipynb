{
 "cells": [
  {
   "cell_type": "code",
   "execution_count": 2,
   "id": "6a86212f",
   "metadata": {},
   "outputs": [
    {
     "name": "stdout",
     "output_type": "stream",
     "text": [
      "안녕하세요 저는 한양대학교 정보시스템학과에 재학중인 21학번 김준형입니다\n"
     ]
    }
   ],
   "source": [
    "print(\"안녕하세요\", \"저는\",\"한양대학교 정보시스템학과에 재학중인\", \"21학번\", \"김준형입니다\")"
   ]
  },
  {
   "cell_type": "code",
   "execution_count": 11,
   "id": "d632b8df",
   "metadata": {},
   "outputs": [
    {
     "name": "stdout",
     "output_type": "stream",
     "text": [
      "안녕하세요!저는!한양대학교 정보시스템학과에 재학중인!21학번!김준형입니다!"
     ]
    }
   ],
   "source": [
    "print(\"안녕하세요\",end=\"!\")\n",
    "print(\"저는\",end=\"!\")\n",
    "print(\"한양대학교 정보시스템학과에 재학중인\",end=\"!\")\n",
    "print(\"21학번\",end=\"!\")\n",
    "print(\"김준형입니다\",end=\"!\")"
   ]
  },
  {
   "cell_type": "code",
   "execution_count": 12,
   "id": "25642e1f",
   "metadata": {},
   "outputs": [
    {
     "name": "stdout",
     "output_type": "stream",
     "text": [
      "안녕하세요\n",
      "저는\n",
      "한양대학교 정보시스템학과에 재학중인\n",
      "21학번\n",
      "김준형입니다\n"
     ]
    }
   ],
   "source": [
    "print(\"안녕하세요\")\n",
    "print(\"저는\")\n",
    "print(\"한양대학교 정보시스템학과에 재학중인\")\n",
    "print(\"21학번\")\n",
    "print(\"김준형입니다\")"
   ]
  },
  {
   "cell_type": "code",
   "execution_count": 13,
   "id": "c0315910",
   "metadata": {},
   "outputs": [
    {
     "name": "stdout",
     "output_type": "stream",
     "text": [
      "안녕하세요 저는 한양대학교 정보시스템학과에 재학중인 21학번 김준형입니다 "
     ]
    }
   ],
   "source": [
    "print(\"안녕하세요\",end=\" \")\n",
    "print(\"저는\",end=\" \")\n",
    "print(\"한양대학교 정보시스템학과에 재학중인\",end=\" \")\n",
    "print(\"21학번\",end=\" \")\n",
    "print(\"김준형입니다\",end=\" \")\n",
    "\n"
   ]
  }
 ],
 "metadata": {
  "kernelspec": {
   "display_name": "Python 3",
   "language": "python",
   "name": "python3"
  },
  "language_info": {
   "codemirror_mode": {
    "name": "ipython",
    "version": 3
   },
   "file_extension": ".py",
   "mimetype": "text/x-python",
   "name": "python",
   "nbconvert_exporter": "python",
   "pygments_lexer": "ipython3",
   "version": "3.8.8"
  }
 },
 "nbformat": 4,
 "nbformat_minor": 5
}
