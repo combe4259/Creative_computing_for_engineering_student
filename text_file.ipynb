{
 "cells": [
  {
   "cell_type": "code",
   "execution_count": null,
   "id": "3ce47c75",
   "metadata": {},
   "outputs": [],
   "source": [
    "for_3=open(\"address.txt\",\"w\")\n",
    "while True:\n",
    "    name=input(\"친구 이름:\")\n",
    "    if name==\"입력끝\":\n",
    "        break\n",
    "    place=input(\"친구 거주지\")\n",
    "    for_3.write(name)\n",
    "    for_3.write(\" \")\n",
    "    for_3.write(place)\n",
    "    for_3.write(\"\\n\")"
   ]
  },
  {
   "cell_type": "code",
   "execution_count": 5,
   "id": "21c726db",
   "metadata": {},
   "outputs": [
    {
     "name": "stdout",
     "output_type": "stream",
     "text": [
      "친구 이름을 입력하세요:김준형\n",
      "내 친구 김준형은 서울에 살고있습니다\n"
     ]
    }
   ],
   "source": [
    "for_4=open(\"address.txt\",\"r\")\n",
    "list4=for_4.readlines()\n",
    "listnew=[]\n",
    "sub=[]\n",
    "realnew=[]\n",
    "state=0\n",
    "name=input(\"친구 이름을 입력하세요:\")\n",
    "for i in list4:\n",
    "    i=i.rstrip()\n",
    "    listnew.append(i)\n",
    "for k in range(len(listnew)):\n",
    "    sub=listnew[k].split()\n",
    "    realnew.append(sub)\n",
    "for j in realnew:\n",
    "    if name==j[0]:\n",
    "        print(\"내 친구 \"+name+\"은 \"+j[1]+\"에 살고있습니다\")\n",
    "        state=1\n",
    "        break\n",
    "if state==0:\n",
    "    print(\"목록에 해당 이름이 없습니다\")"
   ]
  },
  {
   "cell_type": "code",
   "execution_count": null,
   "id": "fe202ebb",
   "metadata": {},
   "outputs": [],
   "source": [
    "def readData():\n",
    "    slist=[]\n",
    "    inFile=open(\"scorefile_in.csv\",'r')\n",
    "    headline=inFile.readline()\n",
    "    for line in inFile:\n",
    "        line=line.rstrip()\n",
    "        sinfo=line.split(\",\")\n",
    "        slist.append(sinfo)\n",
    "    inFile.close()\n",
    "    return slist\n",
    "def addScores(scorelist):\n",
    "    sum=0\n",
    "    for score in scorelist:\n",
    "        sum=sum+int(score)\n",
    "    return sum\n",
    "def writeData(slist):\n",
    "    outFile=open(\"scorefile_out.txt\",\"w\")\n",
    "    outFile.write(\"이름\\t중간\\t기말\\t과제\\t출석\\t총점\\n\")\n",
    "    for std in slist:\n",
    "        for sinfo in std:\n",
    "            outFile.write(sinfo+\"\\t\")\n",
    "        outFile.write(\"\\n\")\n",
    "    outFile.close()\n",
    "    return\n",
    "def sortBySum(slist):\n",
    "    for i in range(len(slist)-1):\n",
    "        idx=i\n",
    "        for k in range(i+1,len(slist)):\n",
    "            if slist[k][5]>slist[idx][5]:\n",
    "                idx=k\n",
    "        slist[idx],slist[i]=slist[i],slist[idx]\n",
    "    return\n",
    "def rankAndGrade(slist):\n",
    "    a=int(input(\"A등급 비율:\"))\n",
    "    b=int(input(\"B등급 비율:\"))\n",
    "    A=int(a*0.01*20)\n",
    "    for i in range(A):\n",
    "        slist[i].append(i+1)\n",
    "        slist[i].append(\"A\")\n",
    "    B=int(b*0.01*20)\n",
    "    for k in range(A,B+A):\n",
    "        slist[k].append(k+1)\n",
    "        slist[k].append(\"B\")\n",
    "    for j in range(B+A,len(slist)):\n",
    "        slist[j].append(j+1)\n",
    "        slist[j].append(\"C\")\n",
    "        \n",
    "stdlist=readData()\n",
    "for std in stdlist:\n",
    "    sumV=addScores(std[1:5])\n",
    "    std.append(str(sumV))\n",
    "sortBySum(stdlist)\n",
    "rankAndGrade(stdlist)\n",
    "print(stdlist)\n",
    "writeData(stdlist)"
   ]
  }
 ],
 "metadata": {
  "kernelspec": {
   "display_name": "Python 3",
   "language": "python",
   "name": "python3"
  },
  "language_info": {
   "codemirror_mode": {
    "name": "ipython",
    "version": 3
   },
   "file_extension": ".py",
   "mimetype": "text/x-python",
   "name": "python",
   "nbconvert_exporter": "python",
   "pygments_lexer": "ipython3",
   "version": "3.8.8"
  }
 },
 "nbformat": 4,
 "nbformat_minor": 5
}
